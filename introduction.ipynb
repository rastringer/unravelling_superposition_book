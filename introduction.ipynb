{
  "cells": [
    {
      "cell_type": "markdown",
      "metadata": {
        "colab_type": "text",
        "id": "view-in-github"
      },
      "source": [
        "<a href=\"https://colab.research.google.com/github/rastringer/unraveling_superposition/blob/main/introduction.ipynb\" target=\"_parent\"><img src=\"https://colab.research.google.com/assets/colab-badge.svg\" alt=\"Open In Colab\"/></a>"
      ]
    },
    {
      "cell_type": "markdown",
      "metadata": {},
      "source": [
        "# Introduction"
      ]
    },
    {
      "cell_type": "markdown",
      "metadata": {
        "id": "E1CDm0NB5EEH"
      },
      "source": [
        "In the field of AI Alignment, 'Interpretability' is the study of understanding neural networks; what they learn from training data and how they are forming their predictions.\n",
        "\n",
        "The first step in interpretability is typically to understand the features a neuron is learning from. There would be no mystery if neurons corresponded to verifiable input features. For example, if a neuron fires on dog tails, or on Korean poetry. Since neural networks incorporate non-linearities, this is not always the case, and we will see how small a fraction of features we are able to extract in relation to the number of neurons in a network. This phenonemon is known as 'superposition'."
      ]
    },
    {
      "cell_type": "markdown",
      "metadata": {
        "id": "Kle_aR4atpWJ"
      },
      "source": [
        "Let's consider the canonical MNIST machine learning example. MNIST is a dataset of 60,000 training images of handwritten digits, 0-9 (10 classes). Each image is 28x28 pixels, so 784 pixels in total.\n",
        "\n",
        "In the most interpretable scenario, each neuron in a neural network would correspond to a specific feature of the input, for example:\n",
        "\n",
        "* loops (for 0, 6, 8, 9 etc)\n",
        "* straight lines (1, 4, 7)\n",
        "* curves (2, 3, 5)\n",
        "\n",
        "In the image below, we see the original handwritten digits, and a heatmap showing the regions of the digits that had high predictive value. Notice for example how the criss-cross of the eight, which is unique to the digit, is highlighted with blue (strong correlation), and similarly, the curve of the five.\n",
        "\n",
        "<img title=\"MNIST\" alt=\"Feature attribution in MNIST\" src=\"./images/mnist.png\"  style=\"height:300px;\">\n",
        "\n",
        "In practice, however, neural nets don't learn clean, one-to-one mappings between neurond and features.\n",
        "\n",
        "### Why does superposition occur?\n",
        "\n",
        "* Efficiency: networks often have fewer parameters than the number of features they need to represent. In the case of large language models, for example, this means networks do not have to extend to every last possible feature of language found in vast text corpora.\n",
        "\n",
        "* Generalization: overlapping representations help generalize to new data.\n",
        "\n",
        "* Non-linearity: this allows for complex, overlapping representations. For example, the combination of features in different neurons, sushi in one and recipie quantities in another, can help formulate accurate predictions.\n"
      ]
    },
    {
      "cell_type": "markdown",
      "metadata": {
        "id": "g8uCsxIG5MXt"
      },
      "source": [
        "We will see in this short course that neural networks often represent more features than they have dimensions, and mix different, unrelated concepts in single neurons. For example, a neuron in a language model could\n",
        "fire in response to inputs as varied as code in Haskell, Spanish poetry and vehicle descriptions.\n",
        "\n"
      ]
    },
    {
      "cell_type": "markdown",
      "metadata": {
        "id": "brhEqVhytn7X"
      },
      "source": [
        "Let's move on to the next chapter to examine this fascinating field and look closely at what we can see neural networks are doing, and what we yet cannot.\n"
      ]
    }
  ],
  "metadata": {
    "colab": {
      "authorship_tag": "ABX9TyM+qzt4jToKm6n4WBNKJTRV",
      "include_colab_link": true,
      "provenance": []
    },
    "kernelspec": {
      "display_name": "Python 3",
      "name": "python3"
    },
    "language_info": {
      "name": "python"
    }
  },
  "nbformat": 4,
  "nbformat_minor": 0
}
