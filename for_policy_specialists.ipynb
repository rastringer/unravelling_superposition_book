{
 "cells": [
  {
   "cell_type": "markdown",
   "metadata": {},
   "source": [
    "# Superposition for Policy Specialists\n",
    "\n",
    "In this section, we will cover what should be helpful for policy staff to know about superposition. \n",
    "\n",
    "### What is superposition?\n",
    "\n",
    "Superposition in neural networks concerns how these systems efficiently represent and process multiple concepts or features within the same set of neurons or parameters. Unlike traditional computer programs where every piece of information typically has a specific address in memory, neural nets distribute this information across their entire architecture. Information and its storage overlaps, and this helps the network learn in greater depth from its inputs.\n",
    "\n",
    "This feature allows neural nets to be efficieint in their use of the computational resources they employ to help them understand input data. The networks can understand input information with far more numerous inputs than there are neurons to make sense of them. \n",
    "\n",
    "### The interpretability challenge\n",
    "\n",
    "Superposition is of interest to both research scientists and policy experts because it presents interpretability challenges, namely the overlapping of information makes it difficult to isolate and understand individual concepts or how a network arrives at a prediction based on input data. This is often refered to as the 'black box' nature of AI systems.\n",
    "Superposition helps robust AI systems to generalize from training data to new inputs. However, it can also cause unexpected behaviours when encountering scenarios significantly different to its training data.\n",
    "\n",
    "\n",
    "### Privacy \n",
    "\n",
    "Since information is stored in a distributed fashion across the network, privacy concerns arise since it isn't straightforward to either pinpoint where a network keeps specific information, or how to delete it. Information entangled with other concepts can be difficult to alter or remove.\n",
    "\n",
    "### Bias and fairness\n",
    "\n",
    "Since biased associations can be subtly encoded across many parameters rather than in easily identifiable locations, superposition can make identifying and mitigating bias challenging.\n",
    "\n",
    "### Regulatory challenges\n",
    "\n",
    "All of the above make regulation difficult, since there is no straightforward relationship between inputs and outputs."
   ]
  },
  {
   "cell_type": "markdown",
   "metadata": {},
   "source": [
    "## Avenues to improve interpretability"
   ]
  },
  {
   "cell_type": "markdown",
   "metadata": {},
   "source": [
    "### Visualization\n",
    "\n",
    "We have convered some techniques in this course to apply visualizations to detect and understand superposition. \n",
    "\n",
    "### Proving and ablation\n",
    "\n",
    "Techniques to isolate specific or groups of neurons to understand behaviour. For excellent examples, see Anthropic's work:\n",
    "* [Towards Monosemanticity](https://transformer-circuits.pub/2023/monosemantic-features/index.html)\n",
    "* and [visualization](https://transformer-circuits.pub/2023/monosemantic-features/vis/a1.html)\n",
    "\n",
    "### Disentanglement \n",
    "\n",
    "Research focused on training networks to encourage more separated, interpretable representations. \n",
    "Please see [Disentangled Explanations of Neural Network Predictions](https://arxiv.org/pdf/2212.14855).\n",
    "\n",
    "### Formal theories of representation\n",
    "\n",
    "Using mathematical frameworks to decribe how information is encoded and processed could improve understanding.\n",
    "\n",
    "### Explainable AI\n",
    "\n",
    "Developing tools to explain how neural nets are making decisions."
   ]
  },
  {
   "cell_type": "markdown",
   "metadata": {},
   "source": [
    "## Conclusion\n",
    "\n",
    "Superposition is a fundamental characteristic that affords neural nets the power and complexity to make predictions and generations based on often voluminous input data. For policy specialists, understanding this charactersitic of AI systems helps inform the development of governance strategies to mitigate ethical and societal impact concerns of non-deterministic systems."
   ]
  },
  {
   "cell_type": "markdown",
   "metadata": {},
   "source": []
  }
 ],
 "metadata": {
  "language_info": {
   "name": "python"
  }
 },
 "nbformat": 4,
 "nbformat_minor": 2
}
